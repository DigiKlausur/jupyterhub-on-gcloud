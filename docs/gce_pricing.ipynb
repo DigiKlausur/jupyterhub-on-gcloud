{
 "cells": [
  {
   "cell_type": "markdown",
   "metadata": {},
   "source": [
    "# Google compute engine pricing (monthly)"
   ]
  },
  {
   "cell_type": "markdown",
   "metadata": {},
   "source": [
    "It is assumed that the instance runs for 24 hours a day"
   ]
  },
  {
   "cell_type": "markdown",
   "metadata": {},
   "source": [
    "Options  | CPU | Memory | Storage | Num of User | Total config                          | Cost (USD)  | Num of instances | Total price (USD)   | Total in 6 months (USD)   |\n",
    "---------|-----|--------|---------|-------------|---------------------------------------|-------------|------------------|---------------------|---------------------------|\n",
    "1        | 0.25| 0.2GB  | 1GB     | 60          | 15cpu,12GB mem, 60GB                  |292.24       |5                 |1461.2               | 8767.2                    |\n",
    "2        | 0.25| 0.3GB  | 1GB     | 60          | 15cpu,18GB mem, 60GB                  |314.52       |5                 |1572.6               | 9435.5                    |\n",
    "3        | 0.3 | 0.3GB  | 1GB     | 60          | 18cpu,18GB mem, 60GB                  |348.43       |5                 |1742.15              | 10452.9                   |\n",
    "         |     |        |         |             |                                       |             |                  |                     |                           |\n"
   ]
  },
  {
   "cell_type": "markdown",
   "metadata": {},
   "source": [
    "Options  | CPU | Memory | Storage | Num of User | Total config                          | Cost (USD)  | Num of instances | Total price (USD)   | Total in 6 months (USD)   |\n",
    "---------|-----|--------|---------|-------------|---------------------------------------|-------------|------------------|---------------------|---------------------------|\n",
    "1        | 0.06| 0.2GB  | 1GB     | 60          | 4cpu,12GB mem, 60GB                   |104.98       |5                 |524.9                | 3149.4                    |\n",
    "2        | 0.10| 0.2GB  | 1GB     | 60          | 6cpu,18GB mem, 60GB                   |142.27       |5                 |711.35               | 4268.1                    |\n",
    "3        | 0.13| 0.2GB  | 1GB     | 60          | 8cpu,18GB mem, 60GB                   |179.56       |5                 |897.8                | 5386.7                    |\n",
    "         |     |        |         |             |                                       |             |                  |                     |                           |\n"
   ]
  },
  {
   "cell_type": "code",
   "execution_count": null,
   "metadata": {},
   "outputs": [],
   "source": []
  },
  {
   "cell_type": "code",
   "execution_count": null,
   "metadata": {},
   "outputs": [],
   "source": []
  },
  {
   "cell_type": "code",
   "execution_count": 1,
   "metadata": {},
   "outputs": [
    {
     "data": {
      "image/png": "[encoded data removed]",
      "text/plain": [
       "<Figure size 432x288 with 1 Axes>"
      ]
     },
     "metadata": {
      "needs_background": "light"
     },
     "output_type": "display_data"
    },
    {
     "name": "stdout",
     "output_type": "stream",
     "text": [
      "print\n"
     ]
    }
   ],
   "source": [
    "%matplotlib inline\n",
    "import matplotlib.pyplot as plt\n",
    "import numpy as np\n",
    "data = np.random.rand(1000)\n",
    "ax = plt.hist(data)\n",
    "data = np.random.rand(1000)\n",
    "A = np.random.rand(12,1000)\n",
    "#print(A)\n",
    "B = np.mean(A,0)\n",
    "#print(B)\n",
    "plt.hist(B,bins=20000)\n",
    "plt.show()\n",
    "print(\"print\")"
   ]
  },
  {
   "cell_type": "code",
   "execution_count": 2,
   "metadata": {},
   "outputs": [
    {
     "data": {
      "image/png": "[encoded data removed]",
      "text/plain": [
       "<Figure size 432x288 with 1 Axes>"
      ]
     },
     "metadata": {
      "needs_background": "light"
     },
     "output_type": "display_data"
    },
    {
     "name": "stdout",
     "output_type": "stream",
     "text": [
      "print\n"
     ]
    }
   ],
   "source": [
    "%matplotlib inline\n",
    "import matplotlib.pyplot as plt\n",
    "import numpy as np\n",
    "data = np.random.rand(1000)\n",
    "ax = plt.hist(data)\n",
    "data = np.random.rand(1000)\n",
    "A = np.random.rand(12,1000)\n",
    "#print(A)\n",
    "B = np.mean(A,0)\n",
    "#print(B)\n",
    "plt.hist(B,bins=20000)\n",
    "plt.show()\n",
    "print(\"print\")"
   ]
  },
  {
   "cell_type": "code",
   "execution_count": null,
   "metadata": {},
   "outputs": [],
   "source": []
  }
 ],
 "metadata": {
  "kernelspec": {
   "display_name": "Python 3",
   "language": "python",
   "name": "python3"
  },
  "language_info": {
   "codemirror_mode": {
    "name": "ipython",
    "version": 3
   },
   "file_extension": ".py",
   "mimetype": "text/x-python",
   "name": "python",
   "nbconvert_exporter": "python",
   "pygments_lexer": "ipython3",
   "version": "3.5.3"
  }
 },
 "nbformat": 4,
 "nbformat_minor": 2
}
