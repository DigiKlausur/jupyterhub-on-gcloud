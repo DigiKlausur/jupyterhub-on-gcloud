{
 "cells": [
  {
   "cell_type": "code",
   "execution_count": null,
   "metadata": {},
   "outputs": [],
   "source": [
    "import matplotlib.pyplot as plt\n",
    "import pandas as pd\n",
    "import numpy as np\n",
    "import six\n",
    "from matplotlib.backends.backend_pdf import PdfPages"
   ]
  },
  {
   "cell_type": "markdown",
   "metadata": {},
   "source": [
    "# Add UID to complete list"
   ]
  },
  {
   "cell_type": "code",
   "execution_count": null,
   "metadata": {},
   "outputs": [],
   "source": [
    "#midterm_list = pd.read_csv('wus_midterm_users_and_passwords.csv')\n",
    "klausur_list = pd.read_excel('Anmeldungen.xlsx')\n",
    "all_list = pd.read_excel('al-grundlagenvonwahrscheinlichkeitstheorieundstatistik.xls')"
   ]
  },
  {
   "cell_type": "code",
   "execution_count": null,
   "metadata": {},
   "outputs": [],
   "source": [
    "df = pd.DataFrame(columns=['Name','FB02UID','Matrikel','Raum','Platz','Date'])\n",
    "for i in range(len(klausur_list)):        \n",
    "    exam_matrikel = klausur_list.Matrikel[i]\n",
    "    exam_nachname = klausur_list.Nachname[i]\n",
    "    exam_vorname = klausur_list.Vorname[i]\n",
    "    exam_name = exam_vorname + ' ' + exam_nachname\n",
    "    exam_raum = klausur_list.Raum[i]\n",
    "    exam_platz = klausur_list.Platz[i]\n",
    "    date = \"22.03.2019\"\n",
    "    #print (exam_matrikel, exam_nachname, exam_nachname, exam_raum, exam_platz)\n",
    "    \n",
    "    for j in range(len(all_list)):\n",
    "        fb02_matrikel = all_list.Matrikel[j]\n",
    "        fb02_uid = all_list.UID[j]\n",
    "        fb02_uid = fb02_uid.replace(\" \", \"\")\n",
    "        if fb02_matrikel == exam_matrikel:\n",
    "            df_new = pd.DataFrame([[exam_name,fb02_uid,exam_matrikel,exam_raum,exam_platz,date]], \n",
    "                            columns=['Name','FB02UID','Matrikel','Raum','Platz','Date'])\n",
    "            df = df.append(df_new, ignore_index=True)\n",
    "\n",
    "df.to_csv('exam_complete_list.csv', index=False)"
   ]
  },
  {
   "cell_type": "markdown",
   "metadata": {},
   "source": [
    "# Update Platz and Raum"
   ]
  },
  {
   "cell_type": "code",
   "execution_count": null,
   "metadata": {},
   "outputs": [],
   "source": [
    "final_list = pd.read_csv('wus_final_username_and_password.csv')\n",
    "updated_list = pd.read_excel('Anmeldungen_final.xlsx')\n",
    "\n",
    "df = pd.DataFrame(columns=['Name','FB02UID','Username','Password','Matrikel','Raum','Platz','Date','Session'])\n",
    "for i in range(len(final_list)):\n",
    "    final_name = final_list.Name[i]\n",
    "    final_fb02uid = final_list.FB02UID[i]\n",
    "    final_username = final_list.Username[i]\n",
    "    final_password = final_list.Password[i]\n",
    "    final_matrikel = final_list.Matrikel[i]\n",
    "    final_raum = final_list.Raum[i]\n",
    "    final_platz = final_list.Platz[i]\n",
    "    final_date = final_list.Date[i]\n",
    "    \n",
    "    for j in range(len(updated_list)):\n",
    "        fb02_matrikel = updated_list.Matrikel[j]\n",
    "        fb02_uid = updated_list.FB02UID[j]\n",
    "        fb02_uid = fb02_uid.replace(\" \", \"\")\n",
    "        fb02_raum = updated_list.Raum[j]\n",
    "        fb02_platz = updated_list.Platz[j]\n",
    "        fb02_session = updated_list.Session[j]\n",
    "        if (int(final_matrikel) == int(fb02_matrikel)):\n",
    "            #print (final_fb02uid, fb02_uid)\n",
    "            #print (int(final_matrikel), int(fb02_matrikel))\n",
    "            df_new = pd.DataFrame([[final_name,final_fb02uid,final_username, final_password,\n",
    "                                    final_matrikel,fb02_raum,fb02_platz,final_date, fb02_session]], \n",
    "                            columns=['Name','FB02UID','Username','Password','Matrikel','Raum','Platz','Date','Session'])\n",
    "            df = df.append(df_new, ignore_index=True)\n",
    "            #print (\"Got\", final_fb02uid)\n",
    "            \n",
    "df.to_csv('wus_final_username_and_password_new.csv', index=False)"
   ]
  },
  {
   "cell_type": "code",
   "execution_count": null,
   "metadata": {},
   "outputs": [],
   "source": []
  },
  {
   "cell_type": "markdown",
   "metadata": {},
   "source": [
    "# Create attendance list\n",
    "#### Create attendance list during the exam based"
   ]
  },
  {
   "cell_type": "code",
   "execution_count": null,
   "metadata": {
    "scrolled": true
   },
   "outputs": [],
   "source": [
    "final_list = pd.read_csv('wus_final_username_and_password_new.csv')\n",
    "updated_list = pd.read_excel('Anmeldungen_final.xlsx')\n",
    "\n",
    "df_1 = pd.DataFrame(columns=['Name','Raum/Platz','Sess','Unterschrift','Abgegeben','Info'])\n",
    "df_2 = pd.DataFrame(columns=['Name','Raum/Platz','Sess','Unterschrift','Abgegeben','Info'])\n",
    "df_3 = pd.DataFrame(columns=['Name','Raum/Platz','Sess','Unterschrift','Abgegeben','Info'])\n",
    "raumen = ['C063', 'G038','C175']\n",
    "for i in range(len(final_list)):\n",
    "    final_name = final_list.Name[i]\n",
    "    final_raum = final_list.Raum[i]\n",
    "    final_platz = final_list.Platz[i]\n",
    "    final_sess = final_list.Session[i]\n",
    "    #print (final_sess)\n",
    "    if final_raum == raumen[0]:\n",
    "        df_new_1 = pd.DataFrame([[final_name,final_raum+'/'+str(final_platz),final_sess,' ', ' ','']], \n",
    "                        columns=['Name','Raum/Platz','Sess','Unterschrift','Abgegeben','Info'])\n",
    "        df_1 = df_1.append(df_new_1, ignore_index=True)\n",
    "    \n",
    "    if final_raum == raumen[1]:\n",
    "        df_new_2 = pd.DataFrame([[final_name,final_raum+'/'+str(final_platz),final_sess,' ', ' ','']], \n",
    "                        columns=['Name','Raum/Platz','Sess','Unterschrift','Abgegeben','Info'])\n",
    "        df_2 = df_2.append(df_new_2, ignore_index=True)\n",
    "    \n",
    "    if final_raum == raumen[2]:\n",
    "        df_new_3 = pd.DataFrame([[final_name,final_raum+'/'+str(final_platz),final_sess,' ', ' ','']], \n",
    "                        columns=['Name','Raum/Platz','Sess','Unterschrift','Abgegeben','Info'])\n",
    "        df_3 = df_3.append(df_new_3, ignore_index=True)\n",
    "\n",
    "df_1 = df_1.sort_values(['Sess'])     \n",
    "df_1.to_csv('attendance_c063.csv', index=False)\n",
    "df_2 = df_2.sort_values(['Sess'])\n",
    "df_2.to_csv('attendance_g038.csv', index=False)\n",
    "df_3 = df_3.sort_values(['Sess'])\n",
    "df_3.to_csv('attendance_c175.csv', index=False)"
   ]
  },
  {
   "cell_type": "code",
   "execution_count": null,
   "metadata": {},
   "outputs": [],
   "source": []
  },
  {
   "cell_type": "markdown",
   "metadata": {},
   "source": [
    "# Hashcode list\n",
    "#### Usage: after the exam students need to write down their hashcode on this list with their signature"
   ]
  },
  {
   "cell_type": "code",
   "execution_count": null,
   "metadata": {},
   "outputs": [],
   "source": [
    "final_list = pd.read_csv('wus_final_username_and_password_new.csv')\n",
    "updated_list = pd.read_excel('Anmeldungen_final.xlsx')\n",
    "\n",
    "df_1 = pd.DataFrame(columns=['Name','Raum/Platz','Sess','Hashcode','Unterschrift'])\n",
    "df_2 = pd.DataFrame(columns=['Name','Raum/Platz','Sess','Hashcode','Unterschrift'])\n",
    "df_3 = pd.DataFrame(columns=['Name','Raum/Platz','Sess','Hashcode','Unterschrift'])\n",
    "raumen = ['C063', 'G038','C175']\n",
    "for i in range(len(final_list)):\n",
    "    final_name = final_list.Name[i]\n",
    "    final_raum = final_list.Raum[i]\n",
    "    final_platz = final_list.Platz[i]\n",
    "    final_sess = final_list.Session[i]\n",
    "    #print (final_sess)\n",
    "    if final_raum == raumen[0]:\n",
    "        df_new_1 = pd.DataFrame([[final_name,final_raum+'/'+str(final_platz),final_sess,' ', ' ']], \n",
    "                        columns=['Name','Raum/Platz','Sess','Hashcode','Unterschrift'])\n",
    "        df_1 = df_1.append(df_new_1, ignore_index=True)\n",
    "    \n",
    "    if final_raum == raumen[1]:\n",
    "        df_new_2 = pd.DataFrame([[final_name,final_raum+'/'+str(final_platz),final_sess,' ', ' ']], \n",
    "                        columns=['Name','Raum/Platz','Sess','Hashcode','Unterschrift'])\n",
    "        df_2 = df_2.append(df_new_2, ignore_index=True)\n",
    "    \n",
    "    if final_raum == raumen[2]:\n",
    "        df_new_3 = pd.DataFrame([[final_name,final_raum+'/'+str(final_platz),final_sess,' ', ' ']], \n",
    "                        columns=['Name','Raum/Platz','Sess','Hashcode','Unterschrift'])\n",
    "        df_3 = df_3.append(df_new_3, ignore_index=True)\n",
    "\n",
    "df_1 = df_1.sort_values(['Sess'])     \n",
    "df_1.to_csv('hashcode_c063.csv', index=False)\n",
    "df_2 = df_2.sort_values(['Sess'])\n",
    "df_2.to_csv('hashcode_g038.csv', index=False)\n",
    "df_3 = df_3.sort_values(['Sess'])\n",
    "df_3.to_csv('hashcode_c175.csv', index=False)"
   ]
  },
  {
   "cell_type": "code",
   "execution_count": null,
   "metadata": {},
   "outputs": [],
   "source": []
  },
  {
   "cell_type": "markdown",
   "metadata": {},
   "source": [
    "# CSV to PDF\n",
    "#### Create a pdf of the student information (e.g. Username, password, hashcode, exam info, etc) for every user\n",
    "#### This code will generate a pdf containing the student information on a single page"
   ]
  },
  {
   "cell_type": "code",
   "execution_count": null,
   "metadata": {},
   "outputs": [],
   "source": [
    "import matplotlib\n",
    "#matplotlib.use('Agg')\n",
    "import matplotlib.pyplot as plt\n",
    "import pandas as pd\n",
    "import numpy as np\n",
    "import six\n",
    "from matplotlib.backends.backend_pdf import PdfPages\n",
    "import argparse\n",
    "\n",
    "# parser = argparse.ArgumentParser()\n",
    "# parser.add_argument('--csv_file', default='', help='CSV input file')\n",
    "# parser.add_argument('--pdf_file', default='', help='PDF output file')\n",
    "\n",
    "# FLAGS = parser.parse_args()\n",
    "# CSV_STUDENT_LIST = FLAGS.csv_file\n",
    "# PDF_STUDENT_LIST = FLAGS.pdf_file\n",
    "\n",
    "def render_mpl_table(data,info, col_width=9.5, row_height=6.925, font_size=28,\n",
    "                     header_color='#bdbdbd', row_colors=['#f1f1f2', 'w'], edge_color='w',\n",
    "                     bbox=[0.0,0.0, 0.9, 1], header_columns=0,\n",
    "                     ax=None, **kwargs):\n",
    "    if ax is None:\n",
    "        size = (np.array(data.shape[::-1]) + np.array([0, 1])) * np.array([col_width, row_height])\n",
    "        fig, ax = plt.subplots(5,1, figsize=size)\n",
    "        ax[0].axis('off')\n",
    "        ax[1].axis('off')\n",
    "        ax[2].axis('off')\n",
    "        ax[3].axis('off')\n",
    "        ax[4].axis('off')\n",
    "      \n",
    "    mpl_table0 = ax[0].table(cellText=data.values, bbox=bbox, colLabels=data.columns, **kwargs)  \n",
    "    mpl_table0.auto_set_font_size(False)\n",
    "    mpl_table0.set_fontsize(font_size)\n",
    "    \n",
    "    mpl_table1 = ax[1].table(cellText=info.values, bbox=bbox, colLabels=info.columns, **kwargs)\n",
    "    mpl_table1.auto_set_font_size(False)\n",
    "    mpl_table1.set_fontsize(font_size)\n",
    "    \n",
    "    mpl_table1 = ax[2].table(cellText=[['']], bbox=bbox, colLabels=[u'Hashcode'], **kwargs)\n",
    "    mpl_table1.auto_set_font_size(False)\n",
    "    mpl_table1.set_fontsize(font_size)\n",
    "    \n",
    "    mpl_table2 = ax[3].table(cellText=[['']], bbox=bbox, colLabels=[u'Timestamp'], **kwargs)\n",
    "    mpl_table2.auto_set_font_size(False)\n",
    "    mpl_table2.set_fontsize(font_size)\n",
    "    \n",
    "    mpl_table2 = ax[4].table(cellText=[[u'Hochschule Bonn-Rhein-Sieg                                                                ']], \n",
    "                             bbox=bbox, colLabels=[u'Wahrscheinlichkeitstheorie und Statistik WS 18/19'], **kwargs)\n",
    "    mpl_table2.auto_set_font_size(False)\n",
    "    mpl_table2.set_fontsize(font_size)\n",
    "    \n",
    "    for k, cell in  six.iteritems(mpl_table0._cells):\n",
    "        cell.set_edgecolor(edge_color)\n",
    "        if k[0] == 0 or k[1] < header_columns:\n",
    "            cell.set_text_props(weight='bold', color='black')\n",
    "            cell.set_facecolor(header_color)\n",
    "            \n",
    "        else:\n",
    "            cell.set_text_props(weight='bold', color='black')\n",
    "            \n",
    "    return fig\n",
    "\n",
    "def main():\n",
    "    if PDF_STUDENT_LIST is None:\n",
    "        print (\"No pdf output specified\")\n",
    "        return\n",
    "    \n",
    "    if CSV_STUDENT_LIST is None:\n",
    "        print (\"No csv input specified\")\n",
    "        return\n",
    "\n",
    "    student_list = pd.read_csv(CSV_STUDENT_LIST)\n",
    "    pp = PdfPages(PDF_STUDENT_LIST)\n",
    "    for i in range(len(student_list)):\n",
    "        name = student_list.Name[i]\n",
    "        fb02uid = student_list.FB02UID[i]\n",
    "        username = student_list.Username[i]\n",
    "        password = student_list.Password[i]\n",
    "        \n",
    "        matrikel = student_list.Matrikel[i]\n",
    "        raum = student_list.Raum[i]\n",
    "        platz = student_list.Platz[i]\n",
    "        date = student_list.Date[i]\n",
    "        session = student_list.Session[i]\n",
    "        #print (session)\n",
    "\n",
    "        data_df = pd.DataFrame([[name,fb02uid,username,password]], \n",
    "                  columns=['Name','FB02UID', 'Username','Password'])\n",
    "        \n",
    "        info_df = pd.DataFrame([[matrikel,raum+'('+str(session)+')',platz,date]], \n",
    "                  columns=['Matrikel','Raum', 'Platz','Date'])\n",
    "\n",
    "        #render_mpl_table(data_df, info_df)\n",
    "        pp.savefig(render_mpl_table(data_df, info_df))\n",
    "    pp.close()"
   ]
  },
  {
   "cell_type": "code",
   "execution_count": null,
   "metadata": {},
   "outputs": [],
   "source": [
    "CSV_STUDENT_LIST = 'wus_final_username_and_password_new.csv'\n",
    "PDF_STUDENT_LIST = 'wus_final_username_and_password_new.pdf'\n",
    "main()"
   ]
  },
  {
   "cell_type": "code",
   "execution_count": null,
   "metadata": {},
   "outputs": [],
   "source": []
  },
  {
   "cell_type": "markdown",
   "metadata": {},
   "source": [
    "# Verify login for all users\n",
    "#### Automatic login verification for all users\n",
    "#### Usage: specify the server and the user list (in csv) where one of the columns has Name, FB02UID, Username, Password"
   ]
  },
  {
   "cell_type": "code",
   "execution_count": null,
   "metadata": {},
   "outputs": [],
   "source": [
    "import os\n",
    "import argparse\n",
    "import yaml\n",
    "import requests\n",
    "import pandas as pd\n",
    "\n",
    "def check_login(login_url, username, password, timeout=5.0):\n",
    "    try:\n",
    "        response = requests.post(login_url, data={'username': username, 'password': password}, timeout=timeout)\n",
    "    except requests.ReadTimeout:\n",
    "        print(\"timeout after {} seconds when trying to log in user '{}' at URL '{}'\".format(timeout, username, login_url))\n",
    "        return False\n",
    "\n",
    "    if response.status_code != 200:\n",
    "        print(\"failed to send POST request for user '{}' to URL '{}'\".format(username, login_url))\n",
    "        return False\n",
    "\n",
    "    if response.text.find('Invalid username or password') > -1:\n",
    "        return False\n",
    "\n",
    "    return True\n",
    "\n",
    "def main(server, csv_student_list):\n",
    "    print('checking logins at server: ' + server)\n",
    "    student_list = pd.read_csv(csv_student_list)\n",
    "    login_url = os.path.join(server, 'hub', 'login?next=')\n",
    "    for i in range(len(student_list)):\n",
    "        name = student_list.Name[i]\n",
    "        fb02uid = student_list.FB02UID[i]\n",
    "        username = student_list.Username[i]\n",
    "        password = student_list.Password[i]\n",
    "        \n",
    "        if check_login(login_url, username, password):\n",
    "            print(\"login successful: '{}'\".format(username))\n",
    "        else:\n",
    "            print(\"login failed: '{}'\".format(username))\n",
    "    print (\"Login check is done\")\n"
   ]
  },
  {
   "cell_type": "code",
   "execution_count": null,
   "metadata": {},
   "outputs": [],
   "source": [
    "server ='http://localhost:7777' #local server\n",
    "csv_student_list = 'username_passwd.csv'"
   ]
  },
  {
   "cell_type": "code",
   "execution_count": null,
   "metadata": {},
   "outputs": [],
   "source": [
    "main(server, csv_student_list)"
   ]
  },
  {
   "cell_type": "code",
   "execution_count": null,
   "metadata": {},
   "outputs": [],
   "source": []
  }
 ],
 "metadata": {
  "kernelspec": {
   "display_name": "Python [default]",
   "language": "python",
   "name": "python3"
  },
  "language_info": {
   "codemirror_mode": {
    "name": "ipython",
    "version": 3
   },
   "file_extension": ".py",
   "mimetype": "text/x-python",
   "name": "python",
   "nbconvert_exporter": "python",
   "pygments_lexer": "ipython3",
   "version": "3.6.5"
  }
 },
 "nbformat": 4,
 "nbformat_minor": 2
}
