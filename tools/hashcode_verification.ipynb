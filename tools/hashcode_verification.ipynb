{
 "cells": [
  {
   "cell_type": "markdown",
   "metadata": {},
   "source": [
    "# Hashcode verification\n",
    "Usage:\n",
    "* Load the hashcode list in csv\n",
    "* Copy all student home directory"
   ]
  },
  {
   "cell_type": "code",
   "execution_count": null,
   "metadata": {},
   "outputs": [],
   "source": [
    "import numpy as np\n",
    "import pandas as pd\n",
    "import os"
   ]
  },
  {
   "cell_type": "markdown",
   "metadata": {},
   "source": [
    "# Load hashcode list"
   ]
  },
  {
   "cell_type": "code",
   "execution_count": null,
   "metadata": {},
   "outputs": [],
   "source": [
    "hashcode_list_dir = './archive/WS1819/exam-course/WahrscheinlichkeitstheorieUndStatistik/submitted'\n",
    "hashcode_list_sess_1_csv = os.path.join(hashcode_list_dir, 'WahrscheinlichkeitstheorieUndStatistik_WS18_WuS_Klausur_hashcode_list_session_1.csv')\n",
    "hashcode_list_sess_2_csv = os.path.join(hashcode_list_dir, 'WahrscheinlichkeitstheorieUndStatistik_WS18_WuS_Klausur_hashcode_list.csv')"
   ]
  },
  {
   "cell_type": "code",
   "execution_count": null,
   "metadata": {},
   "outputs": [],
   "source": [
    "#sess_1_hash_list = pd.read_csv(hashcode_list_sess_1_csv)\n",
    "#sess_2_hash_list = pd.read_csv(hashcode_list_sess_2_csv)\n",
    "combined_hash_list_on_server = pd.read_csv(hashcode_list_sess_2_csv)"
   ]
  },
  {
   "cell_type": "code",
   "execution_count": null,
   "metadata": {},
   "outputs": [],
   "source": []
  },
  {
   "cell_type": "markdown",
   "metadata": {},
   "source": [
    "# Match hashcode on list with the one in the student home dir"
   ]
  },
  {
   "cell_type": "code",
   "execution_count": null,
   "metadata": {},
   "outputs": [],
   "source": [
    "student_home_dir_root = './archive/WS1819/exam-home-dir'\n",
    "student_home_dir_list = os.listdir(student_home_dir_root)\n",
    "assignment_id = 'WS18_WuS_Klausur'"
   ]
  },
  {
   "cell_type": "code",
   "execution_count": null,
   "metadata": {},
   "outputs": [],
   "source": [
    "total_submission = 0\n",
    "for student_uname in student_home_dir_list:\n",
    "    student_root_dir = os.path.join(student_home_dir_root, student_uname, assignment_id)\n",
    "    student_info_file = os.path.join(student_root_dir, '{}_info.txt'.format(student_uname))\n",
    "    #print (student_info_file)\n",
    "    if os.path.isfile(student_info_file):\n",
    "        with open(student_info_file) as f:\n",
    "            content = f.readlines()\n",
    "        student_info = [x.strip() for x in content] \n",
    "        student_info_hashcode = student_info[1]\n",
    "        student_info_stamp = student_info[1]\n",
    "        student_hashcode_version = student_info_hashcode.split()[1]\n",
    "        #print (student_hashcode_version)\n",
    "        for i in range(len(combined_hash_list_on_server.Username)):\n",
    "            #print (combined_hash_list_on_server.Username[i])\n",
    "            if combined_hash_list_on_server.Username[i] == student_uname:\n",
    "                if combined_hash_list_on_server.Hashcode[i] == student_hashcode_version:\n",
    "                    print (\"Hashcode for {} matches\".format(student_uname))\n",
    "                    print (\"{} == {} \".format(student_hashcode_version, combined_hash_list_on_server.Hashcode[i]))\n",
    "                    print (\"==============\")\n",
    "                else:\n",
    "                    print (\"!!!!!!!!!!!!!!!!!!!!!!!!\")\n",
    "                    print (\"Hashcode does not macth for {} matches\".format(student_uname))\n",
    "                    print (\"!!!!!!!!!!!!!!!!!!!!!!!!\")\n",
    "        \n",
    "        total_submission += 1\n",
    "    else:\n",
    "        print (\"-------------------------------------------\")\n",
    "        print (\"There is no submission for student: {} \".format(student_uname))\n",
    "        print (\"-------------------------------------------\")\n",
    "total_submission"
   ]
  },
  {
   "cell_type": "code",
   "execution_count": null,
   "metadata": {},
   "outputs": [],
   "source": []
  },
  {
   "cell_type": "code",
   "execution_count": null,
   "metadata": {},
   "outputs": [],
   "source": []
  }
 ],
 "metadata": {
  "kernelspec": {
   "display_name": "Python [default]",
   "language": "python",
   "name": "python3"
  },
  "language_info": {
   "codemirror_mode": {
    "name": "ipython",
    "version": 3
   },
   "file_extension": ".py",
   "mimetype": "text/x-python",
   "name": "python",
   "nbconvert_exporter": "python",
   "pygments_lexer": "ipython3",
   "version": "3.6.5"
  }
 },
 "nbformat": 4,
 "nbformat_minor": 2
}
